{
  "nbformat": 4,
  "nbformat_minor": 0,
  "metadata": {
    "colab": {
      "name": "tarea4_chicharronera.ipynb",
      "provenance": [],
      "authorship_tag": "ABX9TyPLJuHMYWSyV8bP+l7M5H3i",
      "include_colab_link": true
    },
    "kernelspec": {
      "name": "python3",
      "display_name": "Python 3"
    },
    "language_info": {
      "name": "python"
    }
  },
  "cells": [
    {
      "cell_type": "markdown",
      "metadata": {
        "id": "view-in-github",
        "colab_type": "text"
      },
      "source": [
        "<a href=\"https://colab.research.google.com/github/CarlosGarMon/Tarea_4/blob/main/tarea4_chicharronera.ipynb\" target=\"_parent\"><img src=\"https://colab.research.google.com/assets/colab-badge.svg\" alt=\"Open In Colab\"/></a>"
      ]
    },
    {
      "cell_type": "code",
      "metadata": {
        "colab": {
          "base_uri": "https://localhost:8080/"
        },
        "id": "uNLSttxcmADv",
        "outputId": "9b2b3368-c45b-4920-d4e7-d8270cfc7b45"
      },
      "source": [
        "import math\n",
        "def chicharronera( a, b, c ):\n",
        "\tif a == 0:\n",
        "\t\tprint(\"\\nNo es posible resolver, no se puede dividir entre cero\")\n",
        "\t\tprint(\"Intenta otro método\")\n",
        "\telse:\n",
        "\t\tdiscriminante = (b*b) - (4*a*c)\n",
        "\t\tif discriminante < 0:\n",
        "\t\t\tprint(\"\\n   ----> Tenemos raices complejas\")\n",
        "\t\t\timaginario = math.sqrt( discriminante*(-1) )/ (2*a)\n",
        "\t\t\tx1 = -b / (2*a)\n",
        "\t\t\tprint(f\"    Resultado X1 = [ {x1:.4f} + {imaginario:.4f}i ]\")\n",
        "\t\t\tprint(f\"    Resultado X2 = [ {x1:.4f} - {imaginario:.4f}i ]\")\n",
        "\t\telse:\n",
        "\t\t\tx1 = (-b + math.sqrt(discriminante))/(2*a)\n",
        "\t\t\tx2 = (-b - math.sqrt(discriminante))/(2*a)\n",
        "\t\t\tprint(\"\\n   ----> Tenemos raices reales\")\n",
        "\t\t\tprint(f\"    Resultado X1 = [ {x1:.4f} ]\")\n",
        "\t\t\tprint(f\"    Resultado X2 = [ {x2:.4f} ]\")\n",
        "\t\n",
        "\n",
        "print(\" RESOLUCIÓN DE ECUACIONES DE SEGUNDO GRADO\")\n",
        "print('por el método de la formula \"chichcarronera\"\\n')\n",
        "\n",
        "otra_vez = True\n",
        "while otra_vez == True:\n",
        "\tprint(\"            ax^2 + bx + c = 0\\n\")\n",
        "\ta = float(input(\"  - Introduzca el valor de a: \"))\n",
        "\tb = float(input(\"  - Introduzca el valor de b: \"))\n",
        "\tc = float(input(\"  - Introduzca el valor de c: \"))\n",
        "\n",
        "\tchicharronera( a, b, c )\n",
        "\n",
        "\tvalidacion = False\n",
        "\twhile validacion == False:\n",
        "\t\topcion = int(input(\"\\n¿Deseas calcular otra ecuacion? [SI = 1 | NO = 0]\\nOpcion: \"))\n",
        "\t\tif opcion == 0 or opcion == 1:\n",
        "\t\t\tvalidacion = True\n",
        "\t\t\tprint(\"\\n--------------------------------------------------\")\n",
        "\t\t\tif opcion == 0:\n",
        "\t\t\t\totra_vez = False\n"
      ],
      "execution_count": null,
      "outputs": [
        {
          "output_type": "stream",
          "name": "stdout",
          "text": [
            " RESOLUCIÓN DE ECUACIONES DE SEGUNDO GRADO\n",
            "por el método de la formula \"chichcarronera\"\n",
            "\n",
            "            ax^2 + bx + c = 0\n",
            "\n",
            "  - Introduzca el valor de a: 9.784\n",
            "  - Introduzca el valor de b: -78.211\n",
            "  - Introduzca el valor de c: 0\n",
            "\n",
            "   ----> Tenemos raices reales\n",
            "    Resultado X1 = [ 7.9938 ]\n",
            "    Resultado X2 = [ 0.0000 ]\n",
            "\n",
            "¿Deseas calcular otra ecuacion? [SI = 1 | NO = 0]\n",
            "Opcion: 1\n",
            "\n",
            "--------------------------------------------------\n",
            "            ax^2 + bx + c = 0\n",
            "\n",
            "  - Introduzca el valor de a: 0\n",
            "  - Introduzca el valor de b: 78.25\n",
            "  - Introduzca el valor de c: -47\n",
            "\n",
            "No es posible resolver, no se puede dividir entre cero\n",
            "Intenta otro método\n",
            "\n",
            "¿Deseas calcular otra ecuacion? [SI = 1 | NO = 0]\n",
            "Opcion: 1\n",
            "\n",
            "--------------------------------------------------\n",
            "            ax^2 + bx + c = 0\n",
            "\n",
            "  - Introduzca el valor de a: 999999.9999\n",
            "  - Introduzca el valor de b: -78.12\n",
            "  - Introduzca el valor de c: .0124\n",
            "\n",
            "   ----> Tenemos raices complejas\n",
            "    Resultado X1 = [ 0.0000 + 0.0001i ]\n",
            "    Resultado X2 = [ 0.0000 - 0.0001i ]\n",
            "\n",
            "¿Deseas calcular otra ecuacion? [SI = 1 | NO = 0]\n",
            "Opcion: 0\n",
            "\n",
            "--------------------------------------------------\n"
          ]
        }
      ]
    }
  ]
}